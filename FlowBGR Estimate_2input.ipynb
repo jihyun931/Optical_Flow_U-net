{
 "cells": [
  {
   "cell_type": "code",
   "execution_count": 1,
   "metadata": {},
   "outputs": [
    {
     "name": "stderr",
     "output_type": "stream",
     "text": [
      "Using TensorFlow backend.\n",
      "C:\\Users\\Yoon\\AppData\\Roaming\\Python\\Python36\\site-packages\\tensorflow\\python\\framework\\dtypes.py:523: FutureWarning: Passing (type, 1) or '1type' as a synonym of type is deprecated; in a future version of numpy, it will be understood as (type, (1,)) / '(1,)type'.\n",
      "  _np_qint8 = np.dtype([(\"qint8\", np.int8, 1)])\n",
      "C:\\Users\\Yoon\\AppData\\Roaming\\Python\\Python36\\site-packages\\tensorflow\\python\\framework\\dtypes.py:524: FutureWarning: Passing (type, 1) or '1type' as a synonym of type is deprecated; in a future version of numpy, it will be understood as (type, (1,)) / '(1,)type'.\n",
      "  _np_quint8 = np.dtype([(\"quint8\", np.uint8, 1)])\n",
      "C:\\Users\\Yoon\\AppData\\Roaming\\Python\\Python36\\site-packages\\tensorflow\\python\\framework\\dtypes.py:525: FutureWarning: Passing (type, 1) or '1type' as a synonym of type is deprecated; in a future version of numpy, it will be understood as (type, (1,)) / '(1,)type'.\n",
      "  _np_qint16 = np.dtype([(\"qint16\", np.int16, 1)])\n",
      "C:\\Users\\Yoon\\AppData\\Roaming\\Python\\Python36\\site-packages\\tensorflow\\python\\framework\\dtypes.py:526: FutureWarning: Passing (type, 1) or '1type' as a synonym of type is deprecated; in a future version of numpy, it will be understood as (type, (1,)) / '(1,)type'.\n",
      "  _np_quint16 = np.dtype([(\"quint16\", np.uint16, 1)])\n",
      "C:\\Users\\Yoon\\AppData\\Roaming\\Python\\Python36\\site-packages\\tensorflow\\python\\framework\\dtypes.py:527: FutureWarning: Passing (type, 1) or '1type' as a synonym of type is deprecated; in a future version of numpy, it will be understood as (type, (1,)) / '(1,)type'.\n",
      "  _np_qint32 = np.dtype([(\"qint32\", np.int32, 1)])\n",
      "C:\\Users\\Yoon\\AppData\\Roaming\\Python\\Python36\\site-packages\\tensorflow\\python\\framework\\dtypes.py:532: FutureWarning: Passing (type, 1) or '1type' as a synonym of type is deprecated; in a future version of numpy, it will be understood as (type, (1,)) / '(1,)type'.\n",
      "  np_resource = np.dtype([(\"resource\", np.ubyte, 1)])\n"
     ]
    }
   ],
   "source": [
    "from keras import models, layers\n",
    "from keras import Input\n",
    "from keras.models import Model, load_model\n",
    "from keras.preprocessing.image import ImageDataGenerator\n",
    "from keras import optimizers, initializers, regularizers, metrics\n",
    "from keras.callbacks import ModelCheckpoint, EarlyStopping\n",
    "from keras.layers import BatchNormalization, Conv2D, Activation, Dense, GlobalAveragePooling2D, MaxPooling2D, ZeroPadding2D,\\\n",
    "Add, Multiply, UpSampling2D, Dropout, concatenate, AveragePooling2D, Reshape\n",
    "\n",
    "from keras.layers.advanced_activations import LeakyReLU\n",
    "\n",
    "#from utils import LeakyReLU, average_endpoint_error, pad, antipad\n",
    " \n",
    "from keras import layers\n",
    "import keras\n",
    "    \n",
    "import os\n",
    "import matplotlib.pyplot as plt\n",
    "import numpy as np\n",
    "import math\n",
    "import cv2\n",
    "import pandas as pd\n",
    "\n",
    "import tensorflow as tf\n",
    "\n",
    "from keras.utils.io_utils import HDF5Matrix\n",
    "import keras.backend as K"
   ]
  },
  {
   "cell_type": "code",
   "execution_count": 2,
   "metadata": {},
   "outputs": [],
   "source": [
    "config = tf.ConfigProto()\n",
    "config.gpu_options.per_process_gpu_memory_fraction = 0.6\n",
    "session = tf.Session(config=config)"
   ]
  },
  {
   "cell_type": "code",
   "execution_count": 3,
   "metadata": {},
   "outputs": [],
   "source": [
    "HIGHT = 480\n",
    "WIDTH = 640\n",
    "CHANNELS = 6"
   ]
  },
  {
   "cell_type": "code",
   "execution_count": 4,
   "metadata": {},
   "outputs": [],
   "source": [
    "test_list = pd.read_csv('data/adobe240fps/test_list.txt',header=None)\n",
    "train_list = pd.read_csv('data/adobe240fps/train_list.txt',header=None)"
   ]
  },
  {
   "cell_type": "code",
   "execution_count": 5,
   "metadata": {},
   "outputs": [
    {
     "name": "stdout",
     "output_type": "stream",
     "text": [
      "101599\n"
     ]
    }
   ],
   "source": [
    "data_length = len(os.walk(\"data/train/flow\").__next__()[1])\n",
    "picNum= 0\n",
    "\n",
    "for i in range(data_length):\n",
    "    #frame_length = len(os.walk(\"data/train/resize/\"+train_list.iloc[i,0].split('.')[0]).__next__()[2])-8\n",
    "    frame_length = len(os.walk(\"data/train/half/\"+train_list.iloc[i,0].split('.')[0]).__next__()[2])-8\n",
    "    picNum += frame_length\n",
    "\n",
    "print(picNum)"
   ]
  },
  {
   "cell_type": "code",
   "execution_count": null,
   "metadata": {},
   "outputs": [],
   "source": [
    "data_length = len(os.walk(\"data/train/flow\").__next__()[1])\n",
    "picNum= 0\n",
    "\n",
    "for i in range(data_length):\n",
    "    #frame_length = len(os.walk(\"data/train/resize/\"+train_list.iloc[i,0].split('.')[0]).__next__()[2])-8\n",
    "    frame_length = len(os.walk(\"data/train/half/\"+train_list.iloc[i,0].split('.')[0]).__next__()[2])-8\n",
    "    picNum += frame_length\n",
    "\n",
    "fileList = picNum\n",
    "\n",
    "\n",
    "x1_val = np.array(np.load('data load/half/x1_640-480_20.npz')['x'])\n",
    "x2_val = np.array(np.load('data load/half/x2_640-480_20.npz')['x'])\n",
    "y_val = np.array(np.load('data load/half/y_640-480_20.npz')['y'])\n",
    "\n",
    "x1_load = np.load('data load/half/x1_640-480_1.npz')\n",
    "x2_load = np.load('data load/half/x2_640-480_1.npz')\n",
    "y_load = np.load('data load/half/y_640-480_1.npz')"
   ]
  },
  {
   "cell_type": "markdown",
   "metadata": {},
   "source": [
    "Data Generator"
   ]
  },
  {
   "cell_type": "code",
   "execution_count": null,
   "metadata": {},
   "outputs": [],
   "source": [
    "\n",
    "def imageLoader(files, batch_size):\n",
    "    \n",
    "    #L = len(files)\n",
    "    L = files\n",
    "    load_count = 0\n",
    "\n",
    "    #this line is just to make the generator infinite, keras needs that    \n",
    "    while True:\n",
    "\n",
    "        batch_start = 0\n",
    "        batch_end = batch_size\n",
    "        #load_count = 0\n",
    "        \n",
    "        while load_count < L:\n",
    "            \n",
    "            limit = min(batch_end, 5000)\n",
    "        \n",
    "            #x1_load = np.load('data load/half/x1_640-480_%d.npz'%load_count)\n",
    "            #x2_load = np.load('data load/half/x2_640-480_%d.npz'%load_count)\n",
    "            #y_load = np.load('data load/half/y_640-480_%d.npz'%load_count)\n",
    "\n",
    "            X1 = np.array(x1_load['x'][batch_start:batch_end])\n",
    "            X2 = np.array(x2_load['x'][batch_start:batch_end])\n",
    "            Y = np.array(y_load['y'][batch_start:batch_end])\n",
    "            \n",
    "            yield(X1, Y)\n",
    "            load_count += 1\n",
    "\n",
    "#        while batch_start < L:\n",
    "#            limit = min(batch_end, L)\n",
    "#            x1_load = np.load('data load/half/x1_640-480_%d.npz'%)\n",
    "#            X1 = someMethodToLoadImages(files[batch_start:limit])\n",
    "#            X2 = \n",
    "#            Y = someMethodToLoadTargets(files[batch_start:limit])\n",
    "\n",
    "         #   yield (X,Y) #a tuple with two numpy arrays with batch_size samples     \n",
    "\n",
    "            batch_start += batch_size   \n",
    "            batch_end += batch_size"
   ]
  },
  {
   "cell_type": "code",
   "execution_count": null,
   "metadata": {},
   "outputs": [],
   "source": [
    "def imageLoader(files, batch_size):\n",
    "    \n",
    "    #L = len(files)\n",
    "    L = files\n",
    "    load_count = 0\n",
    "\n",
    "    #this line is just to make the generator infinite, keras needs that    \n",
    "\n",
    "\n",
    "    batch_start = 0\n",
    "    batch_end = batch_size\n",
    "    #load_count = 0\n",
    "        \n",
    "    while load_count < L:\n",
    "\n",
    "        limit = min(batch_end, 5000)\n",
    "\n",
    "        #x1_load = np.load('data load/half/x1_640-480_%d.npz'%load_count)\n",
    "        #x2_load = np.load('data load/half/x2_640-480_%d.npz'%load_count)\n",
    "        #y_load = np.load('data load/half/y_640-480_%d.npz'%load_count)\n",
    "\n",
    "        X1 = np.array(x1_load['x'][batch_start:batch_end])\n",
    "        X2 = np.array(x2_load['x'][batch_start:batch_end])\n",
    "        Y = np.array(y_load['y'][batch_start:batch_end])\n",
    "\n",
    "        load_count += 1 \n",
    "\n",
    "        batch_start += batch_size   \n",
    "        batch_end += batch_size\n",
    "\n",
    "        return ([X1,X2],Y)"
   ]
  },
  {
   "cell_type": "code",
   "execution_count": 13,
   "metadata": {},
   "outputs": [
    {
     "name": "stdout",
     "output_type": "stream",
     "text": [
      "192\n",
      "320\n"
     ]
    }
   ],
   "source": [
    "#filename = \"data load/half/half.hdf5\"\n",
    "filename = \"data load/resize.hdf5\"\n",
    "\n",
    "split_pos = 90000\n",
    "\n",
    "X1_train = HDF5Matrix(filename, 'image_x0', end = split_pos)\n",
    "X2_train = HDF5Matrix(filename, 'image_x1', end = split_pos)\n",
    "Y_train = HDF5Matrix(filename, 'image_y', end = split_pos)\n",
    "\n",
    "X1_val = HDF5Matrix(filename, 'image_x0', start = split_pos)\n",
    "X2_val = HDF5Matrix(filename, 'image_x1', start = split_pos)\n",
    "Y_val = HDF5Matrix(filename, 'image_y', start = split_pos)\n",
    "\n",
    "HIGHT = X1_train.shape[1]\n",
    "WIDTH = X1_train.shape[2]\n",
    "\n",
    "print(HIGHT)\n",
    "print(WIDTH)"
   ]
  },
  {
   "cell_type": "markdown",
   "metadata": {},
   "source": [
    "Unet"
   ]
  },
  {
   "cell_type": "code",
   "execution_count": 14,
   "metadata": {
    "scrolled": true
   },
   "outputs": [
    {
     "name": "stdout",
     "output_type": "stream",
     "text": [
      "Model: \"model_2\"\n",
      "__________________________________________________________________________________________________\n",
      "Layer (type)                    Output Shape         Param #     Connected to                     \n",
      "==================================================================================================\n",
      "input_3 (InputLayer)            (None, 192, 320, 3)  0                                            \n",
      "__________________________________________________________________________________________________\n",
      "input_4 (InputLayer)            (None, 192, 320, 3)  0                                            \n",
      "__________________________________________________________________________________________________\n",
      "conv2d_31 (Conv2D)              (None, 192, 320, 64) 4864        input_3[0][0]                    \n",
      "__________________________________________________________________________________________________\n",
      "conv2d_34 (Conv2D)              (None, 192, 320, 64) 4864        input_4[0][0]                    \n",
      "__________________________________________________________________________________________________\n",
      "conv2d_32 (Conv2D)              (None, 192, 320, 128 204928      conv2d_31[0][0]                  \n",
      "__________________________________________________________________________________________________\n",
      "conv2d_35 (Conv2D)              (None, 192, 320, 128 204928      conv2d_34[0][0]                  \n",
      "__________________________________________________________________________________________________\n",
      "conv2d_33 (Conv2D)              (None, 192, 320, 256 33024       conv2d_32[0][0]                  \n",
      "__________________________________________________________________________________________________\n",
      "conv2d_36 (Conv2D)              (None, 192, 320, 256 33024       conv2d_35[0][0]                  \n",
      "__________________________________________________________________________________________________\n",
      "concatenate_6 (Concatenate)     (None, 192, 320, 512 0           conv2d_33[0][0]                  \n",
      "                                                                 conv2d_36[0][0]                  \n",
      "__________________________________________________________________________________________________\n",
      "conv2d_37 (Conv2D)              (None, 192, 320, 32) 802848      concatenate_6[0][0]              \n",
      "__________________________________________________________________________________________________\n",
      "conv2d_38 (Conv2D)              (None, 192, 320, 32) 50208       conv2d_37[0][0]                  \n",
      "__________________________________________________________________________________________________\n",
      "average_pooling2d_5 (AveragePoo (None, 96, 160, 32)  0           conv2d_38[0][0]                  \n",
      "__________________________________________________________________________________________________\n",
      "conv2d_39 (Conv2D)              (None, 96, 160, 64)  51264       average_pooling2d_5[0][0]        \n",
      "__________________________________________________________________________________________________\n",
      "conv2d_40 (Conv2D)              (None, 96, 160, 64)  102464      conv2d_39[0][0]                  \n",
      "__________________________________________________________________________________________________\n",
      "average_pooling2d_6 (AveragePoo (None, 48, 80, 64)   0           conv2d_40[0][0]                  \n",
      "__________________________________________________________________________________________________\n",
      "conv2d_41 (Conv2D)              (None, 48, 80, 128)  73856       average_pooling2d_6[0][0]        \n",
      "__________________________________________________________________________________________________\n",
      "conv2d_42 (Conv2D)              (None, 48, 80, 128)  147584      conv2d_41[0][0]                  \n",
      "__________________________________________________________________________________________________\n",
      "average_pooling2d_7 (AveragePoo (None, 24, 40, 128)  0           conv2d_42[0][0]                  \n",
      "__________________________________________________________________________________________________\n",
      "conv2d_43 (Conv2D)              (None, 24, 40, 256)  295168      average_pooling2d_7[0][0]        \n",
      "__________________________________________________________________________________________________\n",
      "conv2d_44 (Conv2D)              (None, 24, 40, 256)  590080      conv2d_43[0][0]                  \n",
      "__________________________________________________________________________________________________\n",
      "dropout_3 (Dropout)             (None, 24, 40, 256)  0           conv2d_44[0][0]                  \n",
      "__________________________________________________________________________________________________\n",
      "average_pooling2d_8 (AveragePoo (None, 12, 20, 256)  0           dropout_3[0][0]                  \n",
      "__________________________________________________________________________________________________\n",
      "conv2d_45 (Conv2D)              (None, 12, 20, 512)  1180160     average_pooling2d_8[0][0]        \n",
      "__________________________________________________________________________________________________\n",
      "conv2d_46 (Conv2D)              (None, 12, 20, 512)  2359808     conv2d_45[0][0]                  \n",
      "__________________________________________________________________________________________________\n",
      "dropout_4 (Dropout)             (None, 12, 20, 512)  0           conv2d_46[0][0]                  \n",
      "__________________________________________________________________________________________________\n",
      "up_sampling2d_5 (UpSampling2D)  (None, 24, 40, 512)  0           dropout_4[0][0]                  \n",
      "__________________________________________________________________________________________________\n",
      "conv2d_47 (Conv2D)              (None, 24, 40, 256)  524544      up_sampling2d_5[0][0]            \n",
      "__________________________________________________________________________________________________\n",
      "concatenate_7 (Concatenate)     (None, 24, 40, 512)  0           dropout_3[0][0]                  \n",
      "                                                                 conv2d_47[0][0]                  \n",
      "__________________________________________________________________________________________________\n",
      "conv2d_48 (Conv2D)              (None, 24, 40, 256)  1179904     concatenate_7[0][0]              \n",
      "__________________________________________________________________________________________________\n",
      "conv2d_49 (Conv2D)              (None, 24, 40, 256)  590080      conv2d_48[0][0]                  \n",
      "__________________________________________________________________________________________________\n",
      "up_sampling2d_6 (UpSampling2D)  (None, 48, 80, 256)  0           conv2d_49[0][0]                  \n",
      "__________________________________________________________________________________________________\n",
      "conv2d_50 (Conv2D)              (None, 48, 80, 128)  131200      up_sampling2d_6[0][0]            \n",
      "__________________________________________________________________________________________________\n",
      "concatenate_8 (Concatenate)     (None, 48, 80, 256)  0           conv2d_42[0][0]                  \n",
      "                                                                 conv2d_50[0][0]                  \n",
      "__________________________________________________________________________________________________\n",
      "conv2d_51 (Conv2D)              (None, 48, 80, 128)  295040      concatenate_8[0][0]              \n",
      "__________________________________________________________________________________________________\n",
      "conv2d_52 (Conv2D)              (None, 48, 80, 128)  147584      conv2d_51[0][0]                  \n",
      "__________________________________________________________________________________________________\n",
      "up_sampling2d_7 (UpSampling2D)  (None, 96, 160, 128) 0           conv2d_52[0][0]                  \n",
      "__________________________________________________________________________________________________\n",
      "conv2d_53 (Conv2D)              (None, 96, 160, 64)  32832       up_sampling2d_7[0][0]            \n",
      "__________________________________________________________________________________________________\n",
      "concatenate_9 (Concatenate)     (None, 96, 160, 128) 0           conv2d_40[0][0]                  \n",
      "                                                                 conv2d_53[0][0]                  \n",
      "__________________________________________________________________________________________________\n",
      "conv2d_54 (Conv2D)              (None, 96, 160, 64)  73792       concatenate_9[0][0]              \n",
      "__________________________________________________________________________________________________\n",
      "conv2d_55 (Conv2D)              (None, 96, 160, 64)  36928       conv2d_54[0][0]                  \n",
      "__________________________________________________________________________________________________\n",
      "up_sampling2d_8 (UpSampling2D)  (None, 192, 320, 64) 0           conv2d_55[0][0]                  \n",
      "__________________________________________________________________________________________________\n",
      "conv2d_56 (Conv2D)              (None, 192, 320, 32) 8224        up_sampling2d_8[0][0]            \n",
      "__________________________________________________________________________________________________\n",
      "concatenate_10 (Concatenate)    (None, 192, 320, 64) 0           conv2d_38[0][0]                  \n",
      "                                                                 conv2d_56[0][0]                  \n",
      "__________________________________________________________________________________________________\n",
      "conv2d_57 (Conv2D)              (None, 192, 320, 32) 18464       concatenate_10[0][0]             \n",
      "__________________________________________________________________________________________________\n",
      "conv2d_58 (Conv2D)              (None, 192, 320, 32) 9248        conv2d_57[0][0]                  \n",
      "__________________________________________________________________________________________________\n",
      "conv2d_59 (Conv2D)              (None, 192, 320, 6)  1734        conv2d_58[0][0]                  \n",
      "__________________________________________________________________________________________________\n",
      "conv2d_60 (Conv2D)              (None, 192, 320, 6)  42          conv2d_59[0][0]                  \n",
      "__________________________________________________________________________________________________\n",
      "reshape_2 (Reshape)             (None, 2, 192, 320,  0           conv2d_60[0][0]                  \n",
      "==================================================================================================\n",
      "Total params: 9,188,688\n",
      "Trainable params: 9,188,688\n",
      "Non-trainable params: 0\n",
      "__________________________________________________________________________________________________\n"
     ]
    }
   ],
   "source": [
    "#inputs = Input((HIGHT, WIDTH, CHANNELS))\n",
    "inputsA = Input((HIGHT, WIDTH, 3))\n",
    "inputsB = Input((HIGHT, WIDTH, 3))\n",
    "\n",
    "#input 1\n",
    "convA1 = Conv2D(64, 5, activation=LeakyReLU(alpha=0.1), padding='same', kernel_initializer='he_normal')(inputsA)\n",
    "convA2 = Conv2D(128, 5, activation=LeakyReLU(alpha=0.1), padding='same', kernel_initializer='he_normal')(convA1)\n",
    "convA3 = Conv2D(256, 1, activation=LeakyReLU(alpha=0.1), padding='same', kernel_initializer='he_normal')(convA2)\n",
    "\n",
    "#input 2\n",
    "convB1 = Conv2D(64, 5, activation=LeakyReLU(alpha=0.1), padding='same', kernel_initializer='he_normal')(inputsB)\n",
    "convB2 = Conv2D(128, 5, activation=LeakyReLU(alpha=0.1), padding='same', kernel_initializer='he_normal')(convB1)\n",
    "convB3 = Conv2D(256, 1, activation=LeakyReLU(alpha=0.1), padding='same', kernel_initializer='he_normal')(convB2)\n",
    "\n",
    "#inputs = concatenate([A.output,B.output])\n",
    "inputs = concatenate([convA3, convB3])\n",
    "\n",
    "conv1 = Conv2D(32, 7, activation=LeakyReLU(alpha=0.1), padding='same', kernel_initializer='he_normal')(inputs)\n",
    "conv1 = Conv2D(32, 7, activation=LeakyReLU(alpha=0.1), padding='same', kernel_initializer='he_normal')(conv1)\n",
    "pool1 = AveragePooling2D(pool_size=(2,2))(conv1)\n",
    "\n",
    "conv2 = Conv2D(64, 5, activation = LeakyReLU(alpha=0.1), padding = 'same', kernel_initializer = 'he_normal')(pool1)\n",
    "conv2 = Conv2D(64, 5, activation = LeakyReLU(alpha=0.1), padding = 'same', kernel_initializer = 'he_normal')(conv2)\n",
    "pool2 = AveragePooling2D(pool_size=(2,2))(conv2)\n",
    "\n",
    "conv3 = Conv2D(128, 3, activation = LeakyReLU(alpha=0.1), padding = 'same', kernel_initializer = 'he_normal')(pool2)\n",
    "conv3 = Conv2D(128, 3, activation = LeakyReLU(alpha=0.1), padding = 'same', kernel_initializer = 'he_normal')(conv3)\n",
    "pool3 = AveragePooling2D(pool_size=(2,2))(conv3)\n",
    "\n",
    "conv4 = Conv2D(256, 3, activation = LeakyReLU(alpha=0.1), padding = 'same', kernel_initializer = 'he_normal')(pool3)\n",
    "conv4 = Conv2D(256, 3, activation = LeakyReLU(alpha=0.1), padding = 'same', kernel_initializer = 'he_normal')(conv4)\n",
    "drop4 = Dropout(0.5)(conv4) \n",
    "pool4 = AveragePooling2D(pool_size=(2,2))(drop4)\n",
    "\n",
    "conv5 = Conv2D(512, 3, activation = LeakyReLU(alpha=0.1), padding = 'same', kernel_initializer = 'he_normal')(pool4)\n",
    "conv5 = Conv2D(512, 3, activation = LeakyReLU(alpha=0.1), padding = 'same', kernel_initializer = 'he_normal')(conv5)\n",
    "drop5 = Dropout(0.5)(conv5)\n",
    "\n",
    "up6 = Conv2D(256, 2, activation = LeakyReLU(alpha=0.1), padding = 'same', kernel_initializer = 'he_normal')(UpSampling2D(size=(2,2))(drop5))\n",
    "merge6 = concatenate([drop4,up6], axis=3)\n",
    "conv6 = Conv2D(256, 3, activation = LeakyReLU(alpha=0.1), padding = 'same', kernel_initializer = 'he_normal')(merge6)\n",
    "conv6 = Conv2D(256, 3, activation = LeakyReLU(alpha=0.1), padding = 'same', kernel_initializer = 'he_normal')(conv6)\n",
    "\n",
    "up7 = Conv2D(128, 2, activation = LeakyReLU(alpha=0.1), padding = 'same', kernel_initializer = 'he_normal')(UpSampling2D(size = (2,2))(conv6))\n",
    "merge7 = concatenate([conv3,up7], axis = 3)\n",
    "conv7 = Conv2D(128, 3, activation = LeakyReLU(alpha=0.1), padding = 'same', kernel_initializer = 'he_normal')(merge7)\n",
    "conv7 = Conv2D(128, 3, activation = LeakyReLU(alpha=0.1), padding = 'same', kernel_initializer = 'he_normal')(conv7)\n",
    "\n",
    "up8 = Conv2D(64, 2, activation = LeakyReLU(alpha=0.1), padding = 'same', kernel_initializer = 'he_normal')(UpSampling2D(size = (2,2))(conv7))\n",
    "merge8 = concatenate([conv2,up8], axis = 3)\n",
    "conv8 = Conv2D(64, 3, activation = LeakyReLU(alpha=0.1), padding = 'same', kernel_initializer = 'he_normal')(merge8)\n",
    "conv8 = Conv2D(64, 3, activation = LeakyReLU(alpha=0.1), padding = 'same', kernel_initializer = 'he_normal')(conv8)\n",
    "\n",
    "up9 = Conv2D(32, 2, activation = LeakyReLU(alpha=0.1), padding = 'same', kernel_initializer = 'he_normal')(UpSampling2D(size = (2,2))(conv8))\n",
    "merge9 = concatenate([conv1,up9], axis = 3)\n",
    "conv9 = Conv2D(32, 3, activation = LeakyReLU(alpha=0.1), padding = 'same', kernel_initializer = 'he_normal')(merge9)\n",
    "conv9 = Conv2D(32, 3, activation = LeakyReLU(alpha=0.1), padding = 'same', kernel_initializer = 'he_normal')(conv9)\n",
    "conv9 = Conv2D(6, 3, activation = LeakyReLU(alpha=0.1), padding = 'same', kernel_initializer = 'he_normal')(conv9)\n",
    "\n",
    "conv9 = Conv2D(6, 1, padding = 'same', kernel_initializer = 'he_normal')(conv9)\n",
    "conv9 = Reshape((2,HIGHT,WIDTH,3))(conv9)\n",
    "\n",
    "#model = Model(inputs,conv9)\n",
    "model = Model([inputsA,inputsB],conv9)\n",
    "model.summary()"
   ]
  },
  {
   "cell_type": "code",
   "execution_count": null,
   "metadata": {},
   "outputs": [],
   "source": [
    "import keras.backend as K\n",
    "\n",
    "def dice_coef(y_true, y_pred, smooth=1e-5, thresh=0.5):\n",
    "    y_pred = y_pred > thresh\n",
    "    y_true_f = K.flatten(y_true)\n",
    "    y_pred_f = K.flatten(y_pred)\n",
    "    intersection = K.sum(y_true_f * y_pred_f)\n",
    "    \n",
    "    return -(2. * intersection + smooth) / (K.sum(y_true_f) + K.sum(y_pred_f) + smooth)\n",
    "\n",
    "def dice_loss(smooth, thresh):\n",
    "    def dice(y_true, y_pred):\n",
    "        return -dice_coef(y_true, y_pred, smooth, thresh)\n",
    "    return dice\n",
    "\n",
    "model_dice = dice_loss(smooth=1e-5, thresh=0.5)"
   ]
  },
  {
   "cell_type": "code",
   "execution_count": null,
   "metadata": {},
   "outputs": [],
   "source": [
    "def dice_coef(y_pred,y_true):\n",
    "    smooth = 1.0\n",
    "    y_true_f = K.flatten(y_true)\n",
    "    y_pred_f = K.flatten(K.argmax(y_pred, axis=1))\n",
    "    intersection = K.sum(y_true_f * y_pred_f)\n",
    "    return (2. * intersection + smooth) / (K.sum(y_true_f) + K.sum(y_pred_f) + smooth)\n",
    "\n",
    "def dice_coef_loss(y_pred, y_true):\n",
    "    return dice_coef(y_pred, y_true)"
   ]
  },
  {
   "cell_type": "code",
   "execution_count": 8,
   "metadata": {},
   "outputs": [],
   "source": [
    "import keras.backend as K\n",
    "\n",
    "def custom_loss(y_true, y_pred):\n",
    "    #V = y_pre - y_true\n",
    "    #custom_loss_value = np.linalg.norm(V, axis=1, ord=2)\n",
    "    return K.sqrt(K.sum(K.square(y_pred - y_true), axis=-1))"
   ]
  },
  {
   "cell_type": "code",
   "execution_count": 15,
   "metadata": {
    "scrolled": true
   },
   "outputs": [],
   "source": [
    "#model.compile(optimizer = keras.optimizers.Adam(amsgrad=True), loss = 'mse', metrics = ['accuracy'])\n",
    "#sgd = optimizers.SGD(lr=0.01,momentum=0.9,nesterov=False)\n",
    "#model.compile(optimizer = sgd, loss = dice_coef, metrics = ['accuracy'])\n",
    "\n",
    "model.compile(optimizer = keras.optimizers.Adam(amsgrad=True), loss = custom_loss, metrics = ['accuracy'])"
   ]
  },
  {
   "cell_type": "code",
   "execution_count": 24,
   "metadata": {
    "scrolled": true
   },
   "outputs": [
    {
     "name": "stdout",
     "output_type": "stream",
     "text": [
      "Train on 90000 samples, validate on 11599 samples\n",
      "Epoch 1/50\n",
      "90000/90000 [==============================] - 20673s 230ms/step - loss: 5.9552 - acc: 0.7013 - val_loss: 9.3181 - val_acc: 0.7291\n",
      "Epoch 2/50\n",
      "90000/90000 [==============================] - 20343s 226ms/step - loss: 5.3123 - acc: 0.7284 - val_loss: 7.6343 - val_acc: 0.7458\n",
      "Epoch 3/50\n",
      "90000/90000 [==============================] - 20067s 223ms/step - loss: 4.9434 - acc: 0.7418 - val_loss: 7.3423 - val_acc: 0.7886\n",
      "Epoch 4/50\n",
      "90000/90000 [==============================] - 20091s 223ms/step - loss: 4.6989 - acc: 0.7489 - val_loss: 6.6199 - val_acc: 0.8038\n",
      "Epoch 5/50\n",
      "90000/90000 [==============================] - 20075s 223ms/step - loss: 4.4965 - acc: 0.7548 - val_loss: 6.6557 - val_acc: 0.8047\n",
      "Epoch 6/50\n",
      "90000/90000 [==============================] - 19999s 222ms/step - loss: 4.3018 - acc: 0.7590 - val_loss: 6.9997 - val_acc: 0.7850\n",
      "Epoch 7/50\n",
      "90000/90000 [==============================] - 19948s 222ms/step - loss: 4.1391 - acc: 0.7643 - val_loss: 6.0871 - val_acc: 0.8220\n",
      "Epoch 8/50\n",
      "90000/90000 [==============================] - 19960s 222ms/step - loss: 4.0358 - acc: 0.7665 - val_loss: 6.0431 - val_acc: 0.8274\n",
      "Epoch 9/50\n",
      "90000/90000 [==============================] - 20004s 222ms/step - loss: 3.9192 - acc: 0.7696 - val_loss: 6.1108 - val_acc: 0.8180\n",
      "Epoch 10/50\n",
      "90000/90000 [==============================] - 19964s 222ms/step - loss: 3.8460 - acc: 0.7721 - val_loss: 6.0682 - val_acc: 0.8267\n",
      "Epoch 11/50\n",
      "90000/90000 [==============================] - 19951s 222ms/step - loss: 3.7790 - acc: 0.7741 - val_loss: 5.8173 - val_acc: 0.8305\n",
      "Epoch 12/50\n",
      "90000/90000 [==============================] - 19962s 222ms/step - loss: 3.7332 - acc: 0.7752 - val_loss: 6.1745 - val_acc: 0.8241\n",
      "Epoch 13/50\n",
      "90000/90000 [==============================] - 20078s 223ms/step - loss: 3.6547 - acc: 0.7775 - val_loss: 5.9849 - val_acc: 0.8290\n",
      "Epoch 14/50\n",
      "90000/90000 [==============================] - 20016s 222ms/step - loss: 3.6094 - acc: 0.7788 - val_loss: 5.7454 - val_acc: 0.8325\n",
      "Epoch 15/50\n",
      "90000/90000 [==============================] - 20113s 223ms/step - loss: 3.5370 - acc: 0.7805 - val_loss: 5.8265 - val_acc: 0.8353\n",
      "Epoch 16/50\n",
      "90000/90000 [==============================] - 20193s 224ms/step - loss: 3.4929 - acc: 0.7824 - val_loss: 5.7737 - val_acc: 0.8322\n",
      "Epoch 17/50\n",
      "90000/90000 [==============================] - 20233s 225ms/step - loss: 3.4851 - acc: 0.7819 - val_loss: 5.7618 - val_acc: 0.8316\n",
      "Epoch 18/50\n",
      "90000/90000 [==============================] - 20156s 224ms/step - loss: 3.4111 - acc: 0.7840 - val_loss: 5.7420 - val_acc: 0.8382\n",
      "Epoch 19/50\n",
      "90000/90000 [==============================] - 20171s 224ms/step - loss: 3.3843 - acc: 0.7852 - val_loss: 5.6557 - val_acc: 0.8355\n",
      "Epoch 20/50\n",
      "90000/90000 [==============================] - 20161s 224ms/step - loss: 3.3643 - acc: 0.7857 - val_loss: 5.8213 - val_acc: 0.8253\n",
      "Epoch 21/50\n",
      "19828/90000 [=====>........................] - ETA: 4:10:48 - loss: 3.3202 - acc: 0.7816"
     ]
    },
    {
     "ename": "KeyboardInterrupt",
     "evalue": "",
     "output_type": "error",
     "traceback": [
      "\u001b[1;31m---------------------------------------------------------------------------\u001b[0m",
      "\u001b[1;31mKeyboardInterrupt\u001b[0m                         Traceback (most recent call last)",
      "\u001b[1;32m<ipython-input-24-bd102633d880>\u001b[0m in \u001b[0;36m<module>\u001b[1;34m\u001b[0m\n\u001b[0;32m      1\u001b[0m \u001b[0mearly_stopping\u001b[0m \u001b[1;33m=\u001b[0m \u001b[0mEarlyStopping\u001b[0m\u001b[1;33m(\u001b[0m\u001b[0mpatience\u001b[0m\u001b[1;33m=\u001b[0m\u001b[1;36m15\u001b[0m\u001b[1;33m,\u001b[0m \u001b[0mmode\u001b[0m\u001b[1;33m=\u001b[0m\u001b[1;34m'auto'\u001b[0m\u001b[1;33m,\u001b[0m \u001b[0mmonitor\u001b[0m\u001b[1;33m=\u001b[0m\u001b[1;34m'val_loss'\u001b[0m\u001b[1;33m)\u001b[0m\u001b[1;33m\u001b[0m\u001b[1;33m\u001b[0m\u001b[0m\n\u001b[1;32m----> 2\u001b[1;33m \u001b[0mhistory\u001b[0m \u001b[1;33m=\u001b[0m \u001b[0mmodel\u001b[0m\u001b[1;33m.\u001b[0m\u001b[0mfit\u001b[0m\u001b[1;33m(\u001b[0m\u001b[1;33m[\u001b[0m\u001b[0mX1_train\u001b[0m\u001b[1;33m,\u001b[0m \u001b[0mX2_train\u001b[0m\u001b[1;33m]\u001b[0m\u001b[1;33m,\u001b[0m \u001b[0mY_train\u001b[0m\u001b[1;33m,\u001b[0m \u001b[0mvalidation_data\u001b[0m\u001b[1;33m=\u001b[0m\u001b[1;33m(\u001b[0m\u001b[1;33m[\u001b[0m\u001b[0mX1_val\u001b[0m\u001b[1;33m,\u001b[0m \u001b[0mX2_val\u001b[0m\u001b[1;33m]\u001b[0m\u001b[1;33m,\u001b[0m \u001b[0mY_val\u001b[0m\u001b[1;33m)\u001b[0m\u001b[1;33m,\u001b[0m\u001b[0mepochs\u001b[0m \u001b[1;33m=\u001b[0m \u001b[1;36m50\u001b[0m\u001b[1;33m,\u001b[0m \u001b[0mbatch_size\u001b[0m \u001b[1;33m=\u001b[0m \u001b[1;36m4\u001b[0m\u001b[1;33m,\u001b[0m \u001b[0mshuffle\u001b[0m\u001b[1;33m=\u001b[0m\u001b[1;34m'batch'\u001b[0m\u001b[1;33m,\u001b[0m \u001b[0mcallbacks\u001b[0m\u001b[1;33m=\u001b[0m\u001b[1;33m[\u001b[0m\u001b[0mearly_stopping\u001b[0m\u001b[1;33m]\u001b[0m\u001b[1;33m)\u001b[0m\u001b[1;33m\u001b[0m\u001b[1;33m\u001b[0m\u001b[0m\n\u001b[0m",
      "\u001b[1;32mc:\\users\\yoon\\anaconda3\\envs\\tf_gpu\\lib\\site-packages\\keras\\engine\\training.py\u001b[0m in \u001b[0;36mfit\u001b[1;34m(self, x, y, batch_size, epochs, verbose, callbacks, validation_split, validation_data, shuffle, class_weight, sample_weight, initial_epoch, steps_per_epoch, validation_steps, validation_freq, max_queue_size, workers, use_multiprocessing, **kwargs)\u001b[0m\n\u001b[0;32m   1176\u001b[0m                                         \u001b[0msteps_per_epoch\u001b[0m\u001b[1;33m=\u001b[0m\u001b[0msteps_per_epoch\u001b[0m\u001b[1;33m,\u001b[0m\u001b[1;33m\u001b[0m\u001b[1;33m\u001b[0m\u001b[0m\n\u001b[0;32m   1177\u001b[0m                                         \u001b[0mvalidation_steps\u001b[0m\u001b[1;33m=\u001b[0m\u001b[0mvalidation_steps\u001b[0m\u001b[1;33m,\u001b[0m\u001b[1;33m\u001b[0m\u001b[1;33m\u001b[0m\u001b[0m\n\u001b[1;32m-> 1178\u001b[1;33m                                         validation_freq=validation_freq)\n\u001b[0m\u001b[0;32m   1179\u001b[0m \u001b[1;33m\u001b[0m\u001b[0m\n\u001b[0;32m   1180\u001b[0m     def evaluate(self,\n",
      "\u001b[1;32mc:\\users\\yoon\\anaconda3\\envs\\tf_gpu\\lib\\site-packages\\keras\\engine\\training_arrays.py\u001b[0m in \u001b[0;36mfit_loop\u001b[1;34m(model, fit_function, fit_inputs, out_labels, batch_size, epochs, verbose, callbacks, val_function, val_inputs, shuffle, callback_metrics, initial_epoch, steps_per_epoch, validation_steps, validation_freq)\u001b[0m\n\u001b[0;32m    202\u001b[0m                     \u001b[0mins_batch\u001b[0m\u001b[1;33m[\u001b[0m\u001b[0mi\u001b[0m\u001b[1;33m]\u001b[0m \u001b[1;33m=\u001b[0m \u001b[0mins_batch\u001b[0m\u001b[1;33m[\u001b[0m\u001b[0mi\u001b[0m\u001b[1;33m]\u001b[0m\u001b[1;33m.\u001b[0m\u001b[0mtoarray\u001b[0m\u001b[1;33m(\u001b[0m\u001b[1;33m)\u001b[0m\u001b[1;33m\u001b[0m\u001b[1;33m\u001b[0m\u001b[0m\n\u001b[0;32m    203\u001b[0m \u001b[1;33m\u001b[0m\u001b[0m\n\u001b[1;32m--> 204\u001b[1;33m                 \u001b[0mouts\u001b[0m \u001b[1;33m=\u001b[0m \u001b[0mfit_function\u001b[0m\u001b[1;33m(\u001b[0m\u001b[0mins_batch\u001b[0m\u001b[1;33m)\u001b[0m\u001b[1;33m\u001b[0m\u001b[1;33m\u001b[0m\u001b[0m\n\u001b[0m\u001b[0;32m    205\u001b[0m                 \u001b[0mouts\u001b[0m \u001b[1;33m=\u001b[0m \u001b[0mto_list\u001b[0m\u001b[1;33m(\u001b[0m\u001b[0mouts\u001b[0m\u001b[1;33m)\u001b[0m\u001b[1;33m\u001b[0m\u001b[1;33m\u001b[0m\u001b[0m\n\u001b[0;32m    206\u001b[0m                 \u001b[1;32mfor\u001b[0m \u001b[0ml\u001b[0m\u001b[1;33m,\u001b[0m \u001b[0mo\u001b[0m \u001b[1;32min\u001b[0m \u001b[0mzip\u001b[0m\u001b[1;33m(\u001b[0m\u001b[0mout_labels\u001b[0m\u001b[1;33m,\u001b[0m \u001b[0mouts\u001b[0m\u001b[1;33m)\u001b[0m\u001b[1;33m:\u001b[0m\u001b[1;33m\u001b[0m\u001b[1;33m\u001b[0m\u001b[0m\n",
      "\u001b[1;32mc:\\users\\yoon\\anaconda3\\envs\\tf_gpu\\lib\\site-packages\\keras\\backend\\tensorflow_backend.py\u001b[0m in \u001b[0;36m__call__\u001b[1;34m(self, inputs)\u001b[0m\n\u001b[0;32m   2977\u001b[0m                     \u001b[1;32mreturn\u001b[0m \u001b[0mself\u001b[0m\u001b[1;33m.\u001b[0m\u001b[0m_legacy_call\u001b[0m\u001b[1;33m(\u001b[0m\u001b[0minputs\u001b[0m\u001b[1;33m)\u001b[0m\u001b[1;33m\u001b[0m\u001b[1;33m\u001b[0m\u001b[0m\n\u001b[0;32m   2978\u001b[0m \u001b[1;33m\u001b[0m\u001b[0m\n\u001b[1;32m-> 2979\u001b[1;33m             \u001b[1;32mreturn\u001b[0m \u001b[0mself\u001b[0m\u001b[1;33m.\u001b[0m\u001b[0m_call\u001b[0m\u001b[1;33m(\u001b[0m\u001b[0minputs\u001b[0m\u001b[1;33m)\u001b[0m\u001b[1;33m\u001b[0m\u001b[1;33m\u001b[0m\u001b[0m\n\u001b[0m\u001b[0;32m   2980\u001b[0m         \u001b[1;32melse\u001b[0m\u001b[1;33m:\u001b[0m\u001b[1;33m\u001b[0m\u001b[1;33m\u001b[0m\u001b[0m\n\u001b[0;32m   2981\u001b[0m             \u001b[1;32mif\u001b[0m \u001b[0mpy_any\u001b[0m\u001b[1;33m(\u001b[0m\u001b[0mis_tensor\u001b[0m\u001b[1;33m(\u001b[0m\u001b[0mx\u001b[0m\u001b[1;33m)\u001b[0m \u001b[1;32mfor\u001b[0m \u001b[0mx\u001b[0m \u001b[1;32min\u001b[0m \u001b[0minputs\u001b[0m\u001b[1;33m)\u001b[0m\u001b[1;33m:\u001b[0m\u001b[1;33m\u001b[0m\u001b[1;33m\u001b[0m\u001b[0m\n",
      "\u001b[1;32mc:\\users\\yoon\\anaconda3\\envs\\tf_gpu\\lib\\site-packages\\keras\\backend\\tensorflow_backend.py\u001b[0m in \u001b[0;36m_call\u001b[1;34m(self, inputs)\u001b[0m\n\u001b[0;32m   2935\u001b[0m             \u001b[0mfetched\u001b[0m \u001b[1;33m=\u001b[0m \u001b[0mself\u001b[0m\u001b[1;33m.\u001b[0m\u001b[0m_callable_fn\u001b[0m\u001b[1;33m(\u001b[0m\u001b[1;33m*\u001b[0m\u001b[0marray_vals\u001b[0m\u001b[1;33m,\u001b[0m \u001b[0mrun_metadata\u001b[0m\u001b[1;33m=\u001b[0m\u001b[0mself\u001b[0m\u001b[1;33m.\u001b[0m\u001b[0mrun_metadata\u001b[0m\u001b[1;33m)\u001b[0m\u001b[1;33m\u001b[0m\u001b[1;33m\u001b[0m\u001b[0m\n\u001b[0;32m   2936\u001b[0m         \u001b[1;32melse\u001b[0m\u001b[1;33m:\u001b[0m\u001b[1;33m\u001b[0m\u001b[1;33m\u001b[0m\u001b[0m\n\u001b[1;32m-> 2937\u001b[1;33m             \u001b[0mfetched\u001b[0m \u001b[1;33m=\u001b[0m \u001b[0mself\u001b[0m\u001b[1;33m.\u001b[0m\u001b[0m_callable_fn\u001b[0m\u001b[1;33m(\u001b[0m\u001b[1;33m*\u001b[0m\u001b[0marray_vals\u001b[0m\u001b[1;33m)\u001b[0m\u001b[1;33m\u001b[0m\u001b[1;33m\u001b[0m\u001b[0m\n\u001b[0m\u001b[0;32m   2938\u001b[0m         \u001b[1;32mreturn\u001b[0m \u001b[0mfetched\u001b[0m\u001b[1;33m[\u001b[0m\u001b[1;33m:\u001b[0m\u001b[0mlen\u001b[0m\u001b[1;33m(\u001b[0m\u001b[0mself\u001b[0m\u001b[1;33m.\u001b[0m\u001b[0moutputs\u001b[0m\u001b[1;33m)\u001b[0m\u001b[1;33m]\u001b[0m\u001b[1;33m\u001b[0m\u001b[1;33m\u001b[0m\u001b[0m\n\u001b[0;32m   2939\u001b[0m \u001b[1;33m\u001b[0m\u001b[0m\n",
      "\u001b[1;32m~\\AppData\\Roaming\\Python\\Python36\\site-packages\\tensorflow\\python\\client\\session.py\u001b[0m in \u001b[0;36m__call__\u001b[1;34m(self, *args)\u001b[0m\n\u001b[0;32m   1449\u001b[0m         \u001b[1;32mif\u001b[0m \u001b[0mself\u001b[0m\u001b[1;33m.\u001b[0m\u001b[0m_session\u001b[0m\u001b[1;33m.\u001b[0m\u001b[0m_created_with_new_api\u001b[0m\u001b[1;33m:\u001b[0m\u001b[1;33m\u001b[0m\u001b[1;33m\u001b[0m\u001b[0m\n\u001b[0;32m   1450\u001b[0m           return tf_session.TF_SessionRunCallable(\n\u001b[1;32m-> 1451\u001b[1;33m               self._session._session, self._handle, args, status, None)\n\u001b[0m\u001b[0;32m   1452\u001b[0m         \u001b[1;32melse\u001b[0m\u001b[1;33m:\u001b[0m\u001b[1;33m\u001b[0m\u001b[1;33m\u001b[0m\u001b[0m\n\u001b[0;32m   1453\u001b[0m           return tf_session.TF_DeprecatedSessionRunCallable(\n",
      "\u001b[1;31mKeyboardInterrupt\u001b[0m: "
     ]
    }
   ],
   "source": [
    "early_stopping = EarlyStopping(patience=15, mode='auto', monitor='val_loss')\n",
    "checkpoint = ModelCheckpoint(\"checkpoint/two_input_resize_2out_mid.h5\", monitor='loss', verbose=1,save_best_only-True, mode='auto', period=1)\n",
    "history = model.fit([X1_train, X2_train], Y_train, validation_data=([X1_val, X2_val], Y_val),epochs = 50, batch_size = 4, shuffle='batch', callbacks=[early_stopping])"
   ]
  },
  {
   "cell_type": "code",
   "execution_count": 25,
   "metadata": {},
   "outputs": [],
   "source": [
    "model.save_weights('checkpoint/two_input_resize_2out_2.h5')"
   ]
  },
  {
   "cell_type": "code",
   "execution_count": 54,
   "metadata": {},
   "outputs": [],
   "source": [
    "num = 0\n",
    "#pre = model.predict([X1_val[num:num+10],X2_val[num:num+10]])\n",
    "pre = model.predict([X1_train[num:num+10],X2_train[num:num+10]])"
   ]
  },
  {
   "cell_type": "code",
   "execution_count": 55,
   "metadata": {},
   "outputs": [],
   "source": [
    "preCh1 = np.zeros((10,HIGHT,WIDTH,3))\n",
    "preCh2 = np.zeros((10,HIGHT,WIDTH,3))"
   ]
  },
  {
   "cell_type": "code",
   "execution_count": 56,
   "metadata": {},
   "outputs": [],
   "source": [
    "for i in range(pre.shape[0]):\n",
    "    preCh1[i] = pre[i,0]\n",
    "    preCh2[i] = pre[i,1]"
   ]
  },
  {
   "cell_type": "code",
   "execution_count": 57,
   "metadata": {},
   "outputs": [],
   "source": [
    "for i in range(pre.shape[0]):\n",
    "    cv2.imwrite('test img/res/ch1/frame%d.jpg'%i,preCh1[i])\n",
    "    cv2.imwrite('test img/res/ch2/frame%d.jpg'%i,preCh2[i])\n",
    "    cv2.imwrite('test img/res/ch1/frame%d_true.jpg'%i,Y_val[i+num][0])\n",
    "    cv2.imwrite('test img/res/ch2/frame%d_true.jpg'%i,Y_val[i+num][1])"
   ]
  },
  {
   "cell_type": "code",
   "execution_count": null,
   "metadata": {},
   "outputs": [],
   "source": [
    "y_load = np.load('data load/half/y_640-480_1.npz')"
   ]
  },
  {
   "cell_type": "code",
   "execution_count": null,
   "metadata": {
    "scrolled": true
   },
   "outputs": [],
   "source": [
    "test = y_load['y'][:10]"
   ]
  },
  {
   "cell_type": "code",
   "execution_count": null,
   "metadata": {},
   "outputs": [],
   "source": [
    "test.shape"
   ]
  },
  {
   "cell_type": "code",
   "execution_count": null,
   "metadata": {},
   "outputs": [],
   "source": [
    "test"
   ]
  },
  {
   "cell_type": "code",
   "execution_count": 30,
   "metadata": {
    "scrolled": true
   },
   "outputs": [
    {
     "data": {
      "text/plain": [
       "(11599, 2, 192, 320, 3)"
      ]
     },
     "execution_count": 30,
     "metadata": {},
     "output_type": "execute_result"
    }
   ],
   "source": [
    "Y_val.shape"
   ]
  },
  {
   "cell_type": "code",
   "execution_count": 49,
   "metadata": {
    "scrolled": false
   },
   "outputs": [
    {
     "data": {
      "text/plain": [
       "<matplotlib.image.AxesImage at 0x1b2eef1a518>"
      ]
     },
     "execution_count": 49,
     "metadata": {},
     "output_type": "execute_result"
    },
    {
     "data": {
      "image/png": "[encoded data removed]",
      "text/plain": [
       "<Figure size 432x288 with 1 Axes>"
      ]
     },
     "metadata": {
      "needs_background": "light"
     },
     "output_type": "display_data"
    }
   ],
   "source": [
    "plt.imshow(Y_val[100][1])"
   ]
  },
  {
   "cell_type": "code",
   "execution_count": null,
   "metadata": {},
   "outputs": [],
   "source": []
  }
 ],
 "metadata": {
  "kernelspec": {
   "display_name": "Python 3",
   "language": "python",
   "name": "python3"
  },
  "language_info": {
   "codemirror_mode": {
    "name": "ipython",
    "version": 3
   },
   "file_extension": ".py",
   "mimetype": "text/x-python",
   "name": "python",
   "nbconvert_exporter": "python",
   "pygments_lexer": "ipython3",
   "version": "3.6.9"
  }
 },
 "nbformat": 4,
 "nbformat_minor": 2
}
