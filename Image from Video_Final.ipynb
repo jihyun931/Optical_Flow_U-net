{
 "cells": [
  {
   "cell_type": "code",
   "execution_count": 1,
   "metadata": {},
   "outputs": [],
   "source": [
    "import cv2\n",
    "import pandas as pd\n",
    "import os\n",
    "import numpy as np\n",
    "from matplotlib import pyplot as plt"
   ]
  },
  {
   "cell_type": "code",
   "execution_count": 2,
   "metadata": {},
   "outputs": [],
   "source": [
    "def makeDir(path):\n",
    "    try:\n",
    "        if not os.path.exists(path):\n",
    "            os.makedirs(path)\n",
    "    except OSError:\n",
    "        print('Error: Creating directory. ' + directory)"
   ]
  },
  {
   "cell_type": "code",
   "execution_count": 3,
   "metadata": {},
   "outputs": [],
   "source": [
    "def imgFromVid(vidcap, path):\n",
    "    \n",
    "    count = 0\n",
    "    while(vidcap.isOpened()):\n",
    "        ret, image = vidcap.read()\n",
    "        if not ret:\n",
    "            break\n",
    "        #image = cv2.resize(image, None,fx=0.25,fy=0.25)\n",
    "        #image = cv2.resize(image, (320,192))\n",
    "        #image = cv2.resize(image, (640,480))\n",
    "        cv2.imwrite(path+\"/frame%d.jpg\"%count,image)\n",
    "        count += 1\n",
    "        \n",
    "    vidcap.release()"
   ]
  },
  {
   "cell_type": "code",
   "execution_count": 4,
   "metadata": {},
   "outputs": [],
   "source": [
    "def imgFromVid30fps(vidcap, path):\n",
    "    \n",
    "    count = 0\n",
    "    while(vidcap.isOpened()):\n",
    "        ret, image = vidcap.read()\n",
    "        if not ret:\n",
    "            break\n",
    "        #image = cv2.resize(image, None,fx=0.25,fy=0.25)\n",
    "        image = cv2.resize(image, (320,192))\n",
    "        if(int(vidcap.get(1)-1)%8 == 0):\n",
    "            cv2.imwrite(path+\"/frame%d.jpg\"%count,image)\n",
    "            count += 1\n",
    "        \n",
    "    vidcap.release()"
   ]
  },
  {
   "cell_type": "code",
   "execution_count": 5,
   "metadata": {},
   "outputs": [],
   "source": [
    "test_list = pd.read_csv('data/adobe240fps/test_list.txt',header=None)\n",
    "train_list = pd.read_csv('data/adobe240fps/train_list.txt',header=None)"
   ]
  },
  {
   "cell_type": "code",
   "execution_count": 6,
   "metadata": {
    "scrolled": true
   },
   "outputs": [
    {
     "name": "stdout",
     "output_type": "stream",
     "text": [
      "0 720p_240fps_2.mov start\n",
      "0 720p_240fps_2.mov end\n",
      "1 720p_240fps_3.mov start\n",
      "1 720p_240fps_3.mov end\n",
      "2 720p_240fps_5.mov start\n",
      "2 720p_240fps_5.mov end\n",
      "3 720p_240fps_6.mov start\n",
      "3 720p_240fps_6.mov end\n",
      "4 GOPR9633.mp4 start\n",
      "4 GOPR9633.mp4 end\n",
      "5 GOPR9634.mp4 start\n",
      "5 GOPR9634.mp4 end\n",
      "6 GOPR9636.mp4 start\n",
      "6 GOPR9636.mp4 end\n",
      "7 GOPR9637b.mp4 start\n",
      "7 GOPR9637b.mp4 end\n",
      "8 GOPR9638.mp4 start\n",
      "8 GOPR9638.mp4 end\n",
      "9 GOPR9639.mp4 start\n",
      "9 GOPR9639.mp4 end\n",
      "10 GOPR9640.mp4 start\n",
      "10 GOPR9640.mp4 end\n",
      "11 GOPR9641.mp4 start\n",
      "11 GOPR9641.mp4 end\n",
      "12 GOPR9642.mp4 start\n",
      "12 GOPR9642.mp4 end\n",
      "13 GOPR9643.mp4 start\n",
      "13 GOPR9643.mp4 end\n",
      "14 GOPR9644.mp4 start\n",
      "14 GOPR9644.mp4 end\n",
      "15 GOPR9645.mp4 start\n",
      "15 GOPR9645.mp4 end\n",
      "16 GOPR9646.mp4 start\n",
      "16 GOPR9646.mp4 end\n",
      "17 GOPR9647.mp4 start\n",
      "17 GOPR9647.mp4 end\n",
      "18 GOPR9648.mp4 start\n",
      "18 GOPR9648.mp4 end\n",
      "19 GOPR9649.mp4 start\n",
      "19 GOPR9649.mp4 end\n",
      "20 GOPR9650.mp4 start\n",
      "20 GOPR9650.mp4 end\n",
      "21 GOPR9651.mp4 start\n",
      "21 GOPR9651.mp4 end\n",
      "22 GOPR9652.mp4 start\n",
      "22 GOPR9652.mp4 end\n",
      "23 GOPR9653.mp4 start\n",
      "23 GOPR9653.mp4 end\n",
      "24 GOPR9654a.mp4 start\n",
      "24 GOPR9654a.mp4 end\n",
      "25 GOPR9654b.mp4 start\n",
      "25 GOPR9654b.mp4 end\n",
      "26 GOPR9655a.mp4 start\n",
      "26 GOPR9655a.mp4 end\n",
      "27 GOPR9655b.mp4 start\n",
      "27 GOPR9655b.mp4 end\n",
      "28 GOPR9656.mp4 start\n",
      "28 GOPR9656.mp4 end\n",
      "29 GOPR9657.mp4 start\n",
      "29 GOPR9657.mp4 end\n",
      "30 GOPR9658.MP4 start\n",
      "30 GOPR9658.MP4 end\n",
      "31 GOPR9659.mp4 start\n",
      "31 GOPR9659.mp4 end\n",
      "32 GOPR9660.MP4 start\n",
      "32 GOPR9660.MP4 end\n",
      "33 IMG_0001.mov start\n",
      "33 IMG_0001.mov end\n",
      "34 IMG_0002.mov start\n",
      "34 IMG_0002.mov end\n",
      "35 IMG_0003.mov start\n",
      "35 IMG_0003.mov end\n",
      "36 IMG_0004b.mov start\n",
      "36 IMG_0004b.mov end\n",
      "37 IMG_0005.mov start\n",
      "37 IMG_0005.mov end\n",
      "38 IMG_0006.mov start\n",
      "38 IMG_0006.mov end\n",
      "39 IMG_0007.mov start\n",
      "39 IMG_0007.mov end\n",
      "40 IMG_0008.mov start\n",
      "40 IMG_0008.mov end\n",
      "41 IMG_0009.mov start\n",
      "41 IMG_0009.mov end\n",
      "42 IMG_0010.mov start\n",
      "42 IMG_0010.mov end\n",
      "43 IMG_0011.mov start\n",
      "43 IMG_0011.mov end\n",
      "44 IMG_0012.mov start\n",
      "44 IMG_0012.mov end\n",
      "45 IMG_0013.mov start\n",
      "45 IMG_0013.mov end\n",
      "46 IMG_0014.mov start\n",
      "46 IMG_0014.mov end\n",
      "47 IMG_0016.mov start\n",
      "47 IMG_0016.mov end\n",
      "48 IMG_0017.mov start\n",
      "48 IMG_0017.mov end\n",
      "49 IMG_0018.mov start\n",
      "49 IMG_0018.mov end\n",
      "50 IMG_0019.mov start\n",
      "50 IMG_0019.mov end\n",
      "51 IMG_0020.mov start\n",
      "51 IMG_0020.mov end\n",
      "52 IMG_0021.mov start\n",
      "52 IMG_0021.mov end\n",
      "53 IMG_0022.mov start\n",
      "53 IMG_0022.mov end\n",
      "54 IMG_0024.mov start\n",
      "54 IMG_0024.mov end\n",
      "55 IMG_0025.mov start\n",
      "55 IMG_0025.mov end\n",
      "56 IMG_0026.mov start\n",
      "56 IMG_0026.mov end\n",
      "57 IMG_0028.mov start\n",
      "57 IMG_0028.mov end\n",
      "58 IMG_0029.mov start\n",
      "58 IMG_0029.mov end\n",
      "59 IMG_0030.mov start\n",
      "59 IMG_0030.mov end\n",
      "60 IMG_0031.mov start\n",
      "60 IMG_0031.mov end\n",
      "61 IMG_0032.mov start\n",
      "61 IMG_0032.mov end\n",
      "62 IMG_0033.mov start\n",
      "62 IMG_0033.mov end\n",
      "63 IMG_0034.mov start\n",
      "63 IMG_0034.mov end\n",
      "64 IMG_0034a.mov start\n",
      "64 IMG_0034a.mov end\n",
      "65 IMG_0035.mov start\n",
      "65 IMG_0035.mov end\n",
      "66 IMG_0036.mov start\n",
      "66 IMG_0036.mov end\n",
      "67 IMG_0037.mov start\n",
      "67 IMG_0037.mov end\n",
      "68 IMG_0037a.mov start\n",
      "68 IMG_0037a.mov end\n",
      "69 IMG_0038.mov start\n",
      "69 IMG_0038.mov end\n",
      "70 IMG_0039.mov start\n",
      "70 IMG_0039.mov end\n",
      "71 IMG_0040.mov start\n",
      "71 IMG_0040.mov end\n",
      "72 IMG_0041.mov start\n",
      "72 IMG_0041.mov end\n",
      "73 IMG_0042.mov start\n",
      "73 IMG_0042.mov end\n",
      "74 IMG_0043.mov start\n",
      "74 IMG_0043.mov end\n",
      "75 IMG_0044.mov start\n",
      "75 IMG_0044.mov end\n",
      "76 IMG_0045.mov start\n",
      "76 IMG_0045.mov end\n",
      "77 IMG_0046.mov start\n",
      "77 IMG_0046.mov end\n",
      "78 IMG_0047.mov start\n",
      "78 IMG_0047.mov end\n",
      "79 IMG_0052.mov start\n",
      "79 IMG_0052.mov end\n",
      "80 IMG_0054a.mov start\n",
      "80 IMG_0054a.mov end\n",
      "81 IMG_0054b.mov start\n",
      "81 IMG_0054b.mov end\n",
      "82 IMG_0055.mov start\n",
      "82 IMG_0055.mov end\n",
      "83 IMG_0056.mov start\n",
      "83 IMG_0056.mov end\n",
      "84 IMG_0058.mov start\n",
      "84 IMG_0058.mov end\n",
      "85 IMG_0150.m4v start\n",
      "85 IMG_0150.m4v end\n",
      "86 IMG_0151.m4v start\n",
      "86 IMG_0151.m4v end\n",
      "87 IMG_0152.m4v start\n",
      "87 IMG_0152.m4v end\n",
      "88 IMG_0153.m4v start\n",
      "88 IMG_0153.m4v end\n",
      "89 IMG_0154.m4v start\n",
      "89 IMG_0154.m4v end\n",
      "90 IMG_0155.m4v start\n",
      "90 IMG_0155.m4v end\n",
      "91 IMG_0156.m4v start\n",
      "91 IMG_0156.m4v end\n",
      "92 IMG_0157.m4v start\n",
      "92 IMG_0157.m4v end\n",
      "93 IMG_0160.m4v start\n",
      "93 IMG_0160.m4v end\n",
      "94 IMG_0161.m4v start\n",
      "94 IMG_0161.m4v end\n",
      "95 IMG_0162.m4v start\n",
      "95 IMG_0162.m4v end\n",
      "96 IMG_0163.m4v start\n",
      "96 IMG_0163.m4v end\n",
      "97 IMG_0164.m4v start\n",
      "97 IMG_0164.m4v end\n",
      "98 IMG_0167.m4v start\n",
      "98 IMG_0167.m4v end\n",
      "99 IMG_0169.m4v start\n",
      "99 IMG_0169.m4v end\n",
      "100 IMG_0170.m4v start\n",
      "100 IMG_0170.m4v end\n",
      "101 IMG_0171.m4v start\n",
      "101 IMG_0171.m4v end\n",
      "102 IMG_0172.m4v start\n",
      "102 IMG_0172.m4v end\n",
      "103 IMG_0173.m4v start\n",
      "103 IMG_0173.m4v end\n",
      "104 IMG_0174.m4v start\n",
      "104 IMG_0174.m4v end\n",
      "105 IMG_0175.m4v start\n",
      "105 IMG_0175.m4v end\n",
      "106 IMG_0176.m4v start\n",
      "106 IMG_0176.m4v end\n",
      "107 IMG_0177.m4v start\n",
      "107 IMG_0177.m4v end\n",
      "108 IMG_0178.m4v start\n",
      "108 IMG_0178.m4v end\n",
      "109 IMG_0180.m4v start\n",
      "109 IMG_0180.m4v end\n",
      "110 IMG_0200.MOV start\n",
      "110 IMG_0200.MOV end\n",
      "111 IMG_0212.MOV start\n",
      "111 IMG_0212.MOV end\n"
     ]
    }
   ],
   "source": [
    "for i in range(len(train_list)):\n",
    "    vidcap = cv2.VideoCapture('data/adobe240fps/'+train_list.iloc[i,0])\n",
    "    dir_path = \"data/train/true/\"+train_list.iloc[i,0].split('.')[0]\n",
    "    makeDir(dir_path)\n",
    "    \n",
    "    count = 0\n",
    "    print('%d '%i+train_list.iloc[i,0]+\" start\")\n",
    "    imgFromVid(vidcap,dir_path)    \n",
    "    print('%d '%i+train_list.iloc[i,0]+\" end\")"
   ]
  },
  {
   "cell_type": "code",
   "execution_count": 11,
   "metadata": {},
   "outputs": [
    {
     "name": "stdout",
     "output_type": "stream",
     "text": [
      "0 720p_240fps_1.mov start\n",
      "0 720p_240fps_1.mov end\n",
      "1 GOPR9635.mp4 start\n",
      "1 GOPR9635.mp4 end\n",
      "2 GOPR9637a.mp4 start\n",
      "2 GOPR9637a.mp4 end\n",
      "3 IMG_0004a.mov start\n",
      "3 IMG_0004a.mov end\n",
      "4 IMG_0015.mov start\n",
      "4 IMG_0015.mov end\n",
      "5 IMG_0023.mov start\n",
      "5 IMG_0023.mov end\n",
      "6 IMG_0179.m4v start\n",
      "6 IMG_0179.m4v end\n",
      "7 IMG_0183.MOV start\n",
      "7 IMG_0183.MOV end\n"
     ]
    }
   ],
   "source": [
    "for i in range(len(test_list)):\n",
    "    vidcap = cv2.VideoCapture('data/adobe240fps/'+test_list.iloc[i,0])\n",
    "    dir_path = \"data/test/re30fps/\"+test_list.iloc[i,0].split('.')[0]\n",
    "    makeDir(dir_path)\n",
    "    \n",
    "    count = 0\n",
    "    print('%d '%i+test_list.iloc[i,0]+\" start\")\n",
    "    imgFromVid30fps(vidcap,dir_path)    \n",
    "    print('%d '%i+test_list.iloc[i,0]+\" end\")"
   ]
  },
  {
   "cell_type": "markdown",
   "metadata": {},
   "source": [
    "Optical flow"
   ]
  },
  {
   "cell_type": "code",
   "execution_count": 14,
   "metadata": {
    "scrolled": true
   },
   "outputs": [
    {
     "name": "stdout",
     "output_type": "stream",
     "text": [
      "0 / 112\n",
      "1 / 112\n",
      "2 / 112\n",
      "3 / 112\n",
      "4 / 112\n",
      "5 / 112\n",
      "6 / 112\n",
      "7 / 112\n",
      "8 / 112\n",
      "9 / 112\n",
      "10 / 112\n",
      "11 / 112\n",
      "12 / 112\n",
      "13 / 112\n",
      "14 / 112\n",
      "15 / 112\n",
      "16 / 112\n",
      "17 / 112\n",
      "18 / 112\n",
      "19 / 112\n",
      "20 / 112\n",
      "21 / 112\n",
      "22 / 112\n",
      "23 / 112\n",
      "24 / 112\n",
      "25 / 112\n",
      "26 / 112\n",
      "27 / 112\n",
      "28 / 112\n",
      "29 / 112\n",
      "30 / 112\n",
      "31 / 112\n"
     ]
    },
    {
     "ename": "KeyboardInterrupt",
     "evalue": "",
     "output_type": "error",
     "traceback": [
      "\u001b[1;31m---------------------------------------------------------------------------\u001b[0m",
      "\u001b[1;31mKeyboardInterrupt\u001b[0m                         Traceback (most recent call last)",
      "\u001b[1;32m<ipython-input-14-2adcb6b3ca7c>\u001b[0m in \u001b[0;36m<module>\u001b[1;34m\u001b[0m\n\u001b[0;32m     18\u001b[0m     \u001b[0mflow\u001b[0m \u001b[1;33m=\u001b[0m \u001b[0mnp\u001b[0m\u001b[1;33m.\u001b[0m\u001b[0mreshape\u001b[0m\u001b[1;33m(\u001b[0m\u001b[0mflow\u001b[0m\u001b[1;33m,\u001b[0m\u001b[1;33m(\u001b[0m\u001b[0mlength\u001b[0m\u001b[1;33m,\u001b[0m\u001b[1;33m-\u001b[0m\u001b[1;36m1\u001b[0m\u001b[1;33m)\u001b[0m\u001b[1;33m)\u001b[0m\u001b[1;33m\u001b[0m\u001b[1;33m\u001b[0m\u001b[0m\n\u001b[0;32m     19\u001b[0m     \u001b[0mflow\u001b[0m \u001b[1;33m=\u001b[0m \u001b[0mpd\u001b[0m\u001b[1;33m.\u001b[0m\u001b[0mDataFrame\u001b[0m\u001b[1;33m(\u001b[0m\u001b[0mflow\u001b[0m\u001b[1;33m)\u001b[0m\u001b[1;33m\u001b[0m\u001b[1;33m\u001b[0m\u001b[0m\n\u001b[1;32m---> 20\u001b[1;33m     \u001b[0mflow\u001b[0m\u001b[1;33m.\u001b[0m\u001b[0mto_csv\u001b[0m\u001b[1;33m(\u001b[0m\u001b[1;34m\"data/train/flow/\"\u001b[0m\u001b[1;33m+\u001b[0m\u001b[0mtrain_list\u001b[0m\u001b[1;33m.\u001b[0m\u001b[0miloc\u001b[0m\u001b[1;33m[\u001b[0m\u001b[0mi\u001b[0m\u001b[1;33m,\u001b[0m\u001b[1;36m0\u001b[0m\u001b[1;33m]\u001b[0m\u001b[1;33m.\u001b[0m\u001b[0msplit\u001b[0m\u001b[1;33m(\u001b[0m\u001b[1;34m'.'\u001b[0m\u001b[1;33m)\u001b[0m\u001b[1;33m[\u001b[0m\u001b[1;36m0\u001b[0m\u001b[1;33m]\u001b[0m\u001b[1;33m+\u001b[0m\u001b[1;34m\".csv\"\u001b[0m\u001b[1;33m,\u001b[0m \u001b[0mheader\u001b[0m\u001b[1;33m=\u001b[0m\u001b[1;32mFalse\u001b[0m\u001b[1;33m,\u001b[0m \u001b[0mindex\u001b[0m\u001b[1;33m=\u001b[0m\u001b[1;32mFalse\u001b[0m\u001b[1;33m)\u001b[0m\u001b[1;33m\u001b[0m\u001b[1;33m\u001b[0m\u001b[0m\n\u001b[0m\u001b[0;32m     21\u001b[0m \u001b[1;33m\u001b[0m\u001b[0m\n",
      "\u001b[1;32mc:\\users\\yoon\\anaconda3\\envs\\tf_gpu\\lib\\site-packages\\pandas\\core\\generic.py\u001b[0m in \u001b[0;36mto_csv\u001b[1;34m(self, path_or_buf, sep, na_rep, float_format, columns, header, index, index_label, mode, encoding, compression, quoting, quotechar, line_terminator, chunksize, date_format, doublequote, escapechar, decimal)\u001b[0m\n\u001b[0;32m   3226\u001b[0m             \u001b[0mdecimal\u001b[0m\u001b[1;33m=\u001b[0m\u001b[0mdecimal\u001b[0m\u001b[1;33m,\u001b[0m\u001b[1;33m\u001b[0m\u001b[1;33m\u001b[0m\u001b[0m\n\u001b[0;32m   3227\u001b[0m         )\n\u001b[1;32m-> 3228\u001b[1;33m         \u001b[0mformatter\u001b[0m\u001b[1;33m.\u001b[0m\u001b[0msave\u001b[0m\u001b[1;33m(\u001b[0m\u001b[1;33m)\u001b[0m\u001b[1;33m\u001b[0m\u001b[1;33m\u001b[0m\u001b[0m\n\u001b[0m\u001b[0;32m   3229\u001b[0m \u001b[1;33m\u001b[0m\u001b[0m\n\u001b[0;32m   3230\u001b[0m         \u001b[1;32mif\u001b[0m \u001b[0mpath_or_buf\u001b[0m \u001b[1;32mis\u001b[0m \u001b[1;32mNone\u001b[0m\u001b[1;33m:\u001b[0m\u001b[1;33m\u001b[0m\u001b[1;33m\u001b[0m\u001b[0m\n",
      "\u001b[1;32mc:\\users\\yoon\\anaconda3\\envs\\tf_gpu\\lib\\site-packages\\pandas\\io\\formats\\csvs.py\u001b[0m in \u001b[0;36msave\u001b[1;34m(self)\u001b[0m\n\u001b[0;32m    200\u001b[0m                 \u001b[0mself\u001b[0m\u001b[1;33m.\u001b[0m\u001b[0mwriter\u001b[0m \u001b[1;33m=\u001b[0m \u001b[0mUnicodeWriter\u001b[0m\u001b[1;33m(\u001b[0m\u001b[0mf\u001b[0m\u001b[1;33m,\u001b[0m \u001b[1;33m**\u001b[0m\u001b[0mwriter_kwargs\u001b[0m\u001b[1;33m)\u001b[0m\u001b[1;33m\u001b[0m\u001b[1;33m\u001b[0m\u001b[0m\n\u001b[0;32m    201\u001b[0m \u001b[1;33m\u001b[0m\u001b[0m\n\u001b[1;32m--> 202\u001b[1;33m             \u001b[0mself\u001b[0m\u001b[1;33m.\u001b[0m\u001b[0m_save\u001b[0m\u001b[1;33m(\u001b[0m\u001b[1;33m)\u001b[0m\u001b[1;33m\u001b[0m\u001b[1;33m\u001b[0m\u001b[0m\n\u001b[0m\u001b[0;32m    203\u001b[0m \u001b[1;33m\u001b[0m\u001b[0m\n\u001b[0;32m    204\u001b[0m         \u001b[1;32mfinally\u001b[0m\u001b[1;33m:\u001b[0m\u001b[1;33m\u001b[0m\u001b[1;33m\u001b[0m\u001b[0m\n",
      "\u001b[1;32mc:\\users\\yoon\\anaconda3\\envs\\tf_gpu\\lib\\site-packages\\pandas\\io\\formats\\csvs.py\u001b[0m in \u001b[0;36m_save\u001b[1;34m(self)\u001b[0m\n\u001b[0;32m    322\u001b[0m                 \u001b[1;32mbreak\u001b[0m\u001b[1;33m\u001b[0m\u001b[1;33m\u001b[0m\u001b[0m\n\u001b[0;32m    323\u001b[0m \u001b[1;33m\u001b[0m\u001b[0m\n\u001b[1;32m--> 324\u001b[1;33m             \u001b[0mself\u001b[0m\u001b[1;33m.\u001b[0m\u001b[0m_save_chunk\u001b[0m\u001b[1;33m(\u001b[0m\u001b[0mstart_i\u001b[0m\u001b[1;33m,\u001b[0m \u001b[0mend_i\u001b[0m\u001b[1;33m)\u001b[0m\u001b[1;33m\u001b[0m\u001b[1;33m\u001b[0m\u001b[0m\n\u001b[0m\u001b[0;32m    325\u001b[0m \u001b[1;33m\u001b[0m\u001b[0m\n\u001b[0;32m    326\u001b[0m     \u001b[1;32mdef\u001b[0m \u001b[0m_save_chunk\u001b[0m\u001b[1;33m(\u001b[0m\u001b[0mself\u001b[0m\u001b[1;33m,\u001b[0m \u001b[0mstart_i\u001b[0m\u001b[1;33m,\u001b[0m \u001b[0mend_i\u001b[0m\u001b[1;33m)\u001b[0m\u001b[1;33m:\u001b[0m\u001b[1;33m\u001b[0m\u001b[1;33m\u001b[0m\u001b[0m\n",
      "\u001b[1;32mc:\\users\\yoon\\anaconda3\\envs\\tf_gpu\\lib\\site-packages\\pandas\\io\\formats\\csvs.py\u001b[0m in \u001b[0;36m_save_chunk\u001b[1;34m(self, start_i, end_i)\u001b[0m\n\u001b[0;32m    338\u001b[0m                 \u001b[0mdecimal\u001b[0m\u001b[1;33m=\u001b[0m\u001b[0mself\u001b[0m\u001b[1;33m.\u001b[0m\u001b[0mdecimal\u001b[0m\u001b[1;33m,\u001b[0m\u001b[1;33m\u001b[0m\u001b[1;33m\u001b[0m\u001b[0m\n\u001b[0;32m    339\u001b[0m                 \u001b[0mdate_format\u001b[0m\u001b[1;33m=\u001b[0m\u001b[0mself\u001b[0m\u001b[1;33m.\u001b[0m\u001b[0mdate_format\u001b[0m\u001b[1;33m,\u001b[0m\u001b[1;33m\u001b[0m\u001b[1;33m\u001b[0m\u001b[0m\n\u001b[1;32m--> 340\u001b[1;33m                 \u001b[0mquoting\u001b[0m\u001b[1;33m=\u001b[0m\u001b[0mself\u001b[0m\u001b[1;33m.\u001b[0m\u001b[0mquoting\u001b[0m\u001b[1;33m,\u001b[0m\u001b[1;33m\u001b[0m\u001b[1;33m\u001b[0m\u001b[0m\n\u001b[0m\u001b[0;32m    341\u001b[0m             )\n\u001b[0;32m    342\u001b[0m \u001b[1;33m\u001b[0m\u001b[0m\n",
      "\u001b[1;32mc:\\users\\yoon\\anaconda3\\envs\\tf_gpu\\lib\\site-packages\\pandas\\core\\internals\\blocks.py\u001b[0m in \u001b[0;36mto_native_types\u001b[1;34m(self, slicer, na_rep, float_format, decimal, quoting, **kwargs)\u001b[0m\n\u001b[0;32m   2134\u001b[0m                 \u001b[0mvalues\u001b[0m \u001b[1;33m=\u001b[0m \u001b[0mnp\u001b[0m\u001b[1;33m.\u001b[0m\u001b[0marray\u001b[0m\u001b[1;33m(\u001b[0m\u001b[0mvalues\u001b[0m\u001b[1;33m,\u001b[0m \u001b[0mdtype\u001b[0m\u001b[1;33m=\u001b[0m\u001b[1;34m\"object\"\u001b[0m\u001b[1;33m)\u001b[0m\u001b[1;33m\u001b[0m\u001b[1;33m\u001b[0m\u001b[0m\n\u001b[0;32m   2135\u001b[0m \u001b[1;33m\u001b[0m\u001b[0m\n\u001b[1;32m-> 2136\u001b[1;33m             \u001b[0mvalues\u001b[0m\u001b[1;33m[\u001b[0m\u001b[0mmask\u001b[0m\u001b[1;33m]\u001b[0m \u001b[1;33m=\u001b[0m \u001b[0mna_rep\u001b[0m\u001b[1;33m\u001b[0m\u001b[1;33m\u001b[0m\u001b[0m\n\u001b[0m\u001b[0;32m   2137\u001b[0m             \u001b[1;32mreturn\u001b[0m \u001b[0mvalues\u001b[0m\u001b[1;33m\u001b[0m\u001b[1;33m\u001b[0m\u001b[0m\n\u001b[0;32m   2138\u001b[0m \u001b[1;33m\u001b[0m\u001b[0m\n",
      "\u001b[1;31mKeyboardInterrupt\u001b[0m: "
     ]
    }
   ],
   "source": [
    "for i in range(len(train_list)):\n",
    "    flow = np.array([])\n",
    "    print(\"%d / %d\"%(i, len(train_list)))\n",
    "    #length = len(os.walk(\"data/train/re30fps/\"+train_list.iloc[i,0].split('.')[0]).__next__()[2])-1\n",
    "    length = len(os.walk(\"data/train/re30fps/\"+train_list.iloc[i,0].split('.')[0]).__next__()[2])-1\n",
    "    for j in range(length):\n",
    "        img1 = cv2.imread(\"data/train/re30fps/\"+train_list.iloc[i,0].split('.')[0]+\"/frame%d.jpg\"%j, cv2.IMREAD_COLOR)\n",
    "        img2 = cv2.imread(\"data/train/re30fps/\"+train_list.iloc[i,0].split('.')[0]+\"/frame%d.jpg\"%(j+1), cv2.IMREAD_COLOR)\n",
    "\n",
    "        img1 = cv2.cvtColor(img1,cv2.COLOR_BGR2GRAY)\n",
    "        img2 = cv2.cvtColor(img2,cv2.COLOR_BGR2GRAY)\n",
    "\n",
    "        flow01 = cv2.calcOpticalFlowFarneback(img1,img2, None, 0.5, 3, 15, 3, 5, 1.2, 0)\n",
    "        flow10 = cv2.calcOpticalFlowFarneback(img2,img1, None, 0.5, 3, 15, 3, 5, 1.2, 0)\n",
    "        \n",
    "        flow = np.append(flow,flow01)\n",
    "        flow = np.append(flow,flow10)\n",
    "    flow = np.reshape(flow,(length,-1))\n",
    "    flow = pd.DataFrame(flow)\n",
    "    flow.to_csv(\"data/train/flow/\"+train_list.iloc[i,0].split('.')[0]+\".csv\", header=False, index=False)\n",
    "        "
   ]
  },
  {
   "cell_type": "code",
   "execution_count": 168,
   "metadata": {},
   "outputs": [
    {
     "data": {
      "text/plain": [
       "True"
      ]
     },
     "execution_count": 168,
     "metadata": {},
     "output_type": "execute_result"
    },
    {
     "data": {
      "image/png": "[encoded data removed]",
      "text/plain": [
       "<Figure size 432x288 with 1 Axes>"
      ]
     },
     "metadata": {
      "needs_background": "light"
     },
     "output_type": "display_data"
    }
   ],
   "source": [
    "img = cv2.imread(\"data/train/true/720p_240fps_2/frame0.jpg\", cv2.IMREAD_COLOR)\n",
    "img1 = cv2.imread(\"data/train/true/720p_240fps_2/frame0.jpg\", cv2.IMREAD_COLOR)\n",
    "img2 = cv2.imread(\"data/train/true/720p_240fps_2/frame8.jpg\", cv2.IMREAD_COLOR)\n",
    "img3 = cv2.imread(\"data/train/true/720p_240fps_2/frame4.jpg\", cv2.IMREAD_COLOR)\n",
    "\n",
    "#img1 = cv2.imread(\"data/train/true/720p_240fps_2/frame4.jpg\", cv2.IMREAD_COLOR)\n",
    "#img2 = cv2.imread(\"data/train/true/720p_240fps_2/frame8.jpg\", cv2.IMREAD_COLOR)\n",
    "\n",
    "hsv = np.zeros_like(img)\n",
    "hsv[...,1] = 255\n",
    "\n",
    "img1 = cv2.cvtColor(img1,cv2.COLOR_BGR2GRAY)\n",
    "img2 = cv2.cvtColor(img2,cv2.COLOR_BGR2GRAY)\n",
    "img3 = cv2.cvtColor(img3,cv2.COLOR_BGR2GRAY)\n",
    "\n",
    "flow = cv2.calcOpticalFlowFarneback(img1,img2, None, 0.5, 3, 15, 3, 5, 1.2, 0)\n",
    "flow1 = cv2.calcOpticalFlowFarneback(img2,img1, None, 0.5, 3, 15, 3, 5, 1.2, 0)\n",
    "flow2 = cv2.calcOpticalFlowFarneback(img2,img3, None, 0.5, 3, 15, 3, 5, 1.2, 0)\n",
    "#flow = (flow1+flow2)/2\n",
    "\n",
    "mag, ang = cv2.cartToPolar(flow[...,0], flow[...,1])\n",
    "hsv[...,0] = ang*180/np.pi/2\n",
    "hsv[...,2] = cv2.normalize(mag,None,0,255,cv2.NORM_MINMAX)\n",
    "rgb = cv2.cvtColor(hsv,cv2.COLOR_HSV2BGR)\n",
    "\n",
    "plt.imshow(rgb)\n",
    "cv2.imwrite('ft_1.png',rgb)\n"
   ]
  },
  {
   "cell_type": "code",
   "execution_count": 75,
   "metadata": {},
   "outputs": [],
   "source": [
    "img = cv2.imread(\"data/train/true/720p_240fps_2/frame0.jpg\", cv2.IMREAD_COLOR)\n",
    "\n",
    "img0 = cv2.imread(\"data/train/true/720p_240fps_2/frame0.jpg\", cv2.IMREAD_COLOR)\n",
    "img4 = cv2.imread(\"data/train/true/720p_240fps_2/frame4.jpg\", cv2.IMREAD_COLOR)\n",
    "img8 = cv2.imread(\"data/train/true/720p_240fps_2/frame8.jpg\", cv2.IMREAD_COLOR)\n",
    "\n",
    "\n",
    "hsv = np.zeros_like(img)\n",
    "hsv[...,1] = 255\n",
    "\n",
    "img0 = cv2.cvtColor(img0,cv2.COLOR_BGR2GRAY)\n",
    "img4 = cv2.cvtColor(img4,cv2.COLOR_BGR2GRAY)\n",
    "img8 = cv2.cvtColor(img8,cv2.COLOR_BGR2GRAY)\n",
    "\n",
    "flow08 = cv2.calcOpticalFlowFarneback(img0,img8, None, 0.5, 3, 15, 3, 5, 1.2, 0)\n",
    "flow48 = cv2.calcOpticalFlowFarneback(img4,img8, None, 0.5, 3, 15, 3, 5, 1.2, 0)\n",
    "flow40 = cv2.calcOpticalFlowFarneback(img4,img0, None, 0.5, 3, 15, 3, 5, 1.2, 0)\n",
    "#flow = (flow1+flow2)/2"
   ]
  },
  {
   "cell_type": "code",
   "execution_count": null,
   "metadata": {},
   "outputs": [],
   "source": [
    "hsv = np.zeros_like(img)\n",
    "hsv[...,1] = 255\n",
    "\n",
    "#flow1 = flow1/2\n",
    "\n",
    "mag1, ang1 = cv2.cartToPolar(flow1[...,0], flow1[...,1])\n",
    "mag2, ang2 = cv2.cartToPolar(flow2[...,0], flow2[...,1])\n",
    "\n",
    "hsv[...,0] = ang1*180/np.pi/2\n",
    "hsv[...,2] = cv2.normalize(mag1,None,0,255,cv2.NORM_MINMAX)\n",
    "rgb = cv2.cvtColor(hsv,cv2.COLOR_HSV2BGR)\n",
    "cv2.imwrite('fl20.png',rgb)\n",
    "\n",
    "hsv = np.zeros_like(img)\n",
    "hsv[...,1] = 255\n",
    "\n",
    "hsv[...,0] = ang2*180/np.pi/2\n",
    "hsv[...,2] = cv2.normalize(mag2,None,0,255,cv2.NORM_MINMAX)\n",
    "rgb = cv2.cvtColor(hsv,cv2.COLOR_HSV2BGR)\n",
    "cv2.imwrite('fl21.png',rgb)"
   ]
  },
  {
   "cell_type": "code",
   "execution_count": 17,
   "metadata": {},
   "outputs": [
    {
     "data": {
      "text/plain": [
       "True"
      ]
     },
     "execution_count": 17,
     "metadata": {},
     "output_type": "execute_result"
    }
   ],
   "source": [
    "img3 = cv2.imread(\"data/train/re30fps/720p_240fps_2/frame0.jpg\", cv2.IMREAD_COLOR)\n",
    "img4 = np.zeros_like(img3)\n",
    "\n",
    "for i in range(img3.shape[0]):\n",
    "    for j in range(img3.shape[1]):\n",
    "        if(i+flow[i,j,1]<=img3.shape[0] and j+flow[i,j,0]<=img3.shape[1]):\n",
    "            img4[int(i+(flow[i,j,1]/2)),int(j+(flow[i,j,0]/2))] = img3[i,j]\n",
    "cv2.imwrite('test.jpg',img4)"
   ]
  },
  {
   "cell_type": "code",
   "execution_count": 47,
   "metadata": {},
   "outputs": [],
   "source": [
    "reflow = cv2.polarToCart(mag,ang,flow.shape[0],flow.shape[1],angleInDegrees=0)"
   ]
  },
  {
   "cell_type": "markdown",
   "metadata": {},
   "source": [
    "L2 Norm"
   ]
  },
  {
   "cell_type": "code",
   "execution_count": 160,
   "metadata": {},
   "outputs": [
    {
     "data": {
      "text/plain": [
       "(720, 1280, 2)"
      ]
     },
     "execution_count": 160,
     "metadata": {},
     "output_type": "execute_result"
    }
   ],
   "source": [
    "flow1 = flow1/2\n",
    "nflow = flow1-flow2\n",
    "nflow.shape"
   ]
  },
  {
   "cell_type": "code",
   "execution_count": 161,
   "metadata": {},
   "outputs": [
    {
     "data": {
      "text/plain": [
       "(921600, 2)"
      ]
     },
     "execution_count": 161,
     "metadata": {},
     "output_type": "execute_result"
    }
   ],
   "source": [
    "nflow = np.reshape(nflow,(nflow.shape[0]*nflow.shape[1],-1))\n",
    "nflow.shape"
   ]
  },
  {
   "cell_type": "code",
   "execution_count": 162,
   "metadata": {},
   "outputs": [
    {
     "data": {
      "text/plain": [
       "(921600,)"
      ]
     },
     "execution_count": 162,
     "metadata": {},
     "output_type": "execute_result"
    }
   ],
   "source": [
    "L2_norm = np.linalg.norm(nflow, axis=1, ord=2)#, keepdims=True)\n",
    "L2_norm.shape"
   ]
  },
  {
   "cell_type": "code",
   "execution_count": 163,
   "metadata": {},
   "outputs": [
    {
     "data": {
      "text/plain": [
       "(720, 1280)"
      ]
     },
     "execution_count": 163,
     "metadata": {},
     "output_type": "execute_result"
    }
   ],
   "source": [
    "L2_norm = np.reshape(L2_norm,(720,1280))\n",
    "L2_norm.shape"
   ]
  },
  {
   "cell_type": "code",
   "execution_count": 164,
   "metadata": {},
   "outputs": [
    {
     "data": {
      "text/plain": [
       "True"
      ]
     },
     "execution_count": 164,
     "metadata": {},
     "output_type": "execute_result"
    },
    {
     "data": {
      "image/png": "[encoded data removed]",
      "text/plain": [
       "<Figure size 432x288 with 1 Axes>"
      ]
     },
     "metadata": {
      "needs_background": "light"
     },
     "output_type": "display_data"
    }
   ],
   "source": [
    "L2_norm = cv2.normalize(L2_norm,None,0,255,cv2.NORM_MINMAX)\n",
    "plt.imshow(L2_norm)\n",
    "cv2.imwrite('L2_10.png',L2_norm)"
   ]
  },
  {
   "cell_type": "markdown",
   "metadata": {},
   "source": [
    "Backward Warping"
   ]
  },
  {
   "cell_type": "code",
   "execution_count": 15,
   "metadata": {},
   "outputs": [
    {
     "data": {
      "text/plain": [
       "True"
      ]
     },
     "execution_count": 15,
     "metadata": {},
     "output_type": "execute_result"
    }
   ],
   "source": [
    "img8 = cv2.imread(\"data/train/true/720p_240fps_2/frame0.jpg\", cv2.IMREAD_COLOR)\n",
    "img = np.zeros_like(img)\n",
    "\n",
    "for i in range(img8.shape[0]):\n",
    "    for j in range(img8.shape[1]):\n",
    "        #if(i+flow[i,j,1]<=img3.shape[0] and j+flow[i,j,0]<=img3.shape[1]):\n",
    "            #img4[int(i+(flow[i,j,1]/2)),int(j+(flow[i,j,0]/2))] = img3[i,j]\n",
    "        y = int((i + flow40[i,j,1]))\n",
    "        x = int((j + flow40[i,j,0]))\n",
    "        #if y>=720:\n",
    "        #    y=719\n",
    "        #if y<0:\n",
    "        #    y=0\n",
    "        #if x>=1280:\n",
    "        #    x=1279\n",
    "        #if x<0:\n",
    "        #    x=0\n",
    "        \n",
    "        if y>=720 or y<0 or x>=1280 or x<0:\n",
    "            img[i,j] = 0\n",
    "            continue\n",
    "        img[i,j] = img8[y,x]\n",
    "cv2.imwrite('backWarp_fhat1_0.jpg',img)"
   ]
  },
  {
   "cell_type": "code",
   "execution_count": 157,
   "metadata": {},
   "outputs": [
    {
     "data": {
      "text/plain": [
       "True"
      ]
     },
     "execution_count": 157,
     "metadata": {},
     "output_type": "execute_result"
    }
   ],
   "source": [
    "img8 = cv2.imread(\"data/train/true/720p_240fps_2/frame0.jpg\", cv2.IMREAD_COLOR)\n",
    "img = np.zeros_like(img)\n",
    "\n",
    "for i in range(img8.shape[0]):\n",
    "    for j in range(img8.shape[1]):\n",
    "        #if(i+flow[i,j,1]<=img3.shape[0] and j+flow[i,j,0]<=img3.shape[1]):\n",
    "            #img4[int(i+(flow[i,j,1]/2)),int(j+(flow[i,j,0]/2))] = img3[i,j]\n",
    "        y = int((i + rere[i,j,1]))\n",
    "        x = int((j + rere[i,j,0]))\n",
    "        #if y>=720:\n",
    "        #    y=719\n",
    "        #if y<0:\n",
    "        #    y=0\n",
    "        #if x>=1280:\n",
    "        #    x=1279\n",
    "        #if x<0:\n",
    "        #    x=0\n",
    "        \n",
    "        if y>=720 or y<0 or x>=1280 or x<0:\n",
    "            img[i,j] = 0\n",
    "            continue\n",
    "        img[i,j] = img8[y,x]\n",
    "cv2.imwrite('reflow.jpg',img)"
   ]
  },
  {
   "cell_type": "code",
   "execution_count": 16,
   "metadata": {},
   "outputs": [
    {
     "data": {
      "text/plain": [
       "True"
      ]
     },
     "execution_count": 16,
     "metadata": {},
     "output_type": "execute_result"
    }
   ],
   "source": [
    "img1 = cv2.imread(\"backWarp_fhat1_0.jpg\", cv2.IMREAD_COLOR)\n",
    "img2 = cv2.imread(\"backWarp_fhat1_1.jpg\", cv2.IMREAD_COLOR)\n",
    "img = np.zeros_like(img1)\n",
    "\n",
    "img = img1/2 + img2/2\n",
    "cv2.imwrite('backWarp_fhat1_2.jpg',img)"
   ]
  },
  {
   "cell_type": "code",
   "execution_count": 160,
   "metadata": {},
   "outputs": [
    {
     "data": {
      "text/plain": [
       "True"
      ]
     },
     "execution_count": 160,
     "metadata": {},
     "output_type": "execute_result"
    }
   ],
   "source": [
    "h, w = flow40.shape[:2]\n",
    "fx, fy = flow40[:,:,0], flow40[:,:,1]\n",
    "ang = np.arctan2(fy, fx) + np.pi\n",
    "v = np.sqrt(fx*fx+fy*fy)\n",
    "hsv = np.zeros((h, w, 3), np.uint8)\n",
    "hsv[...,0] = ang*(180/np.pi/2)\n",
    "hsv[...,1] = 255\n",
    "hsv[...,2] = np.minimum(v*4, 255)\n",
    "bgr = cv2.cvtColor(hsv, cv2.COLOR_HSV2BGR)\n",
    "\n",
    "cv2.imwrite(\"hsv.jpg\", hsv)"
   ]
  },
  {
   "cell_type": "markdown",
   "metadata": {},
   "source": [
    "BGR -> HSV -> ang,mag -> flow"
   ]
  },
  {
   "cell_type": "code",
   "execution_count": 171,
   "metadata": {},
   "outputs": [],
   "source": [
    "def BGR2Flow(bgr, flow):\n",
    "    hsv = cv2.cvtColor(bgr, cv2.COLOR_BGR2HSV)\n",
    "    ang = hsv[...,0]/(180/np.pi/2)\n",
    "    mag = hsv[...,2]/4\n",
    "    \n",
    "    reflow = cv2.polarToCart(re_mag,re_ang,flow.shape[0],flow.shape[1],angleInDegrees=0)\n",
    "    reflow = np.array(reflow)\n",
    "    for i in range(reflow.shape[1]):\n",
    "        for j in range(reflow.shape[2]):\n",
    "            flow[i,j,0] = reflow[0,i,j]\n",
    "            flow[i,j,1] = reflow[1,i,j]\n",
    "    \n",
    "    return flow"
   ]
  },
  {
   "cell_type": "code",
   "execution_count": 172,
   "metadata": {},
   "outputs": [],
   "source": [
    "flow = BGR2Flow(bgr, flow40)"
   ]
  },
  {
   "cell_type": "code",
   "execution_count": null,
   "metadata": {},
   "outputs": [],
   "source": []
  }
 ],
 "metadata": {
  "kernelspec": {
   "display_name": "Python 3",
   "language": "python",
   "name": "python3"
  },
  "language_info": {
   "codemirror_mode": {
    "name": "ipython",
    "version": 3
   },
   "file_extension": ".py",
   "mimetype": "text/x-python",
   "name": "python",
   "nbconvert_exporter": "python",
   "pygments_lexer": "ipython3",
   "version": "3.6.9"
  }
 },
 "nbformat": 4,
 "nbformat_minor": 2
}
